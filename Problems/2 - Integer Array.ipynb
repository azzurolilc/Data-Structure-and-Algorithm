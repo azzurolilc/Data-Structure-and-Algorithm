{
 "cells": [
  {
   "cell_type": "code",
   "execution_count": 5,
   "metadata": {
    "collapsed": false
   },
   "outputs": [
    {
     "name": "stdout",
     "output_type": "stream",
     "text": [
      "[0, 0, 0, 2]\n"
     ]
    }
   ],
   "source": [
    "def removeElement(A, elem):\n",
    "    return [a for a in A if a is not elem]\n",
    "\n",
    "def removeElement(A, elem):\n",
    "    return list(filter((elem).__ne__, A))\n",
    "    \n",
    "print(removeElement([0,4,4,0,4,4,4,0,2], 4))"
   ]
  },
  {
   "cell_type": "code",
   "execution_count": 20,
   "metadata": {
    "collapsed": false
   },
   "outputs": [
    {
     "name": "stdout",
     "output_type": "stream",
     "text": [
      "[1, 2, 3, 4, 5]\n"
     ]
    }
   ],
   "source": [
    "# Merge Sorted Array\n",
    "def mergeSortedArray(A, m, B, n):\n",
    "        for i in range(n):\n",
    "#             A[m + i] = B[i] because its python = =/// \n",
    "            A.append(B[i])\n",
    "        A.sort()\n",
    "        print(A)\n",
    "mergeSortedArray([1,2,3], 3, [4,5], 2)"
   ]
  },
  {
   "cell_type": "code",
   "execution_count": null,
   "metadata": {
    "collapsed": true
   },
   "outputs": [],
   "source": []
  }
 ],
 "metadata": {
  "kernelspec": {
   "display_name": "Python 3",
   "language": "python",
   "name": "python3"
  },
  "language_info": {
   "codemirror_mode": {
    "name": "ipython",
    "version": 3
   },
   "file_extension": ".py",
   "mimetype": "text/x-python",
   "name": "python",
   "nbconvert_exporter": "python",
   "pygments_lexer": "ipython3",
   "version": "3.4.3"
  }
 },
 "nbformat": 4,
 "nbformat_minor": 0
}
