{
 "cells": [
  {
   "cell_type": "code",
   "execution_count": 13,
   "metadata": {
    "collapsed": false
   },
   "outputs": [
    {
     "name": "stdout",
     "output_type": "stream",
     "text": [
      "1\n",
      "2\n",
      "3\n",
      "5\n",
      "7\n",
      "9\n"
     ]
    }
   ],
   "source": [
    "# How to sort a list of objects in Python, based on an attribute of the objects?\n",
    "#  e.g. sort :XXX = [Rating(user=789, product=286, rating=1.0), Rating(user=789, product=137, rating=2.0)...]     \n",
    "#        by  \"rating\"\n",
    "\n",
    "class rating():\n",
    "    def __init__(self,user,product,rating):\n",
    "        self.user = user\n",
    "        self.product = product\n",
    "        self.rating = rating\n",
    "\n",
    "rating_list = list({rating(1,1,1),rating(7,7,7),rating(2,2,2),rating(5,5,5),rating(9,9,9),rating(3,3,3)})\n",
    "sorted_list = sorted(rating_list, key=lambda x:x.rating, reverse=False)\n",
    "\n",
    "for i in sorted_list:\n",
    "    print(i.rating)"
   ]
  },
  {
   "cell_type": "code",
   "execution_count": null,
   "metadata": {
    "collapsed": true
   },
   "outputs": [],
   "source": []
  }
 ],
 "metadata": {
  "kernelspec": {
   "display_name": "Python 3",
   "language": "python",
   "name": "python3"
  },
  "language_info": {
   "codemirror_mode": {
    "name": "ipython",
    "version": 3
   },
   "file_extension": ".py",
   "mimetype": "text/x-python",
   "name": "python",
   "nbconvert_exporter": "python",
   "pygments_lexer": "ipython3",
   "version": "3.4.3"
  }
 },
 "nbformat": 4,
 "nbformat_minor": 0
}
